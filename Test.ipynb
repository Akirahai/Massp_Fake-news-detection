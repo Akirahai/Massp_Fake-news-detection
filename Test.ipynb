{
 "cells": [
  {
   "cell_type": "code",
   "execution_count": 1,
   "metadata": {},
   "outputs": [],
   "source": [
    "\n",
    "import numpy as np\n",
    "import pandas as pd\n",
    "import matplotlib.pyplot as plt\n",
    "import torch\n",
    "import seaborn as sns"
   ]
  },
  {
   "cell_type": "code",
   "execution_count": 2,
   "metadata": {},
   "outputs": [
    {
     "data": {
      "text/html": [
       "<div>\n",
       "<style scoped>\n",
       "    .dataframe tbody tr th:only-of-type {\n",
       "        vertical-align: middle;\n",
       "    }\n",
       "\n",
       "    .dataframe tbody tr th {\n",
       "        vertical-align: top;\n",
       "    }\n",
       "\n",
       "    .dataframe thead th {\n",
       "        text-align: right;\n",
       "    }\n",
       "</style>\n",
       "<table border=\"1\" class=\"dataframe\">\n",
       "  <thead>\n",
       "    <tr style=\"text-align: right;\">\n",
       "      <th></th>\n",
       "      <th>id</th>\n",
       "      <th>user_name</th>\n",
       "      <th>post_message</th>\n",
       "      <th>timestamp_post</th>\n",
       "      <th>num_like_post</th>\n",
       "      <th>num_comment_post</th>\n",
       "      <th>num_share_post</th>\n",
       "      <th>label</th>\n",
       "    </tr>\n",
       "  </thead>\n",
       "  <tbody>\n",
       "    <tr>\n",
       "      <th>0</th>\n",
       "      <td>1</td>\n",
       "      <td>389c669730cb6c54314a46be785cea42</td>\n",
       "      <td>THĂNG CẤP BẬC HÀM ĐỐI VỚI 2 CÁN BỘ, CHIẾN SỸ H...</td>\n",
       "      <td>2020-04-03 20:23:59</td>\n",
       "      <td>19477.0</td>\n",
       "      <td>378.0</td>\n",
       "      <td>173.0</td>\n",
       "      <td>0</td>\n",
       "    </tr>\n",
       "    <tr>\n",
       "      <th>1</th>\n",
       "      <td>2</td>\n",
       "      <td>775baa6d037b6d359b229a656eaeaf08</td>\n",
       "      <td>&lt;URL&gt;</td>\n",
       "      <td>2020-05-08 11:59:26</td>\n",
       "      <td>11.0</td>\n",
       "      <td>5.0</td>\n",
       "      <td>3.0</td>\n",
       "      <td>0</td>\n",
       "    </tr>\n",
       "    <tr>\n",
       "      <th>2</th>\n",
       "      <td>3</td>\n",
       "      <td>b9f3394d2aff86d85974f5040c401f08</td>\n",
       "      <td>TƯ VẤN MÙA THI: Cách nộp hồ sơ để trúng tuyển ...</td>\n",
       "      <td>2020-06-06 01:00:13</td>\n",
       "      <td>48.0</td>\n",
       "      <td>5.0</td>\n",
       "      <td>19.0</td>\n",
       "      <td>0</td>\n",
       "    </tr>\n",
       "    <tr>\n",
       "      <th>3</th>\n",
       "      <td>4</td>\n",
       "      <td>808e278b22ec6b96f2faf7447d10cd8e</td>\n",
       "      <td>Cơ quan Cạnh tranh và Thị trường Anh quyết địn...</td>\n",
       "      <td>2020-06-13 04:46:53</td>\n",
       "      <td>3.0</td>\n",
       "      <td>0.0</td>\n",
       "      <td>0.0</td>\n",
       "      <td>0</td>\n",
       "    </tr>\n",
       "    <tr>\n",
       "      <th>4</th>\n",
       "      <td>5</td>\n",
       "      <td>f81bdd6d8be4c5f64bb664214e47aced</td>\n",
       "      <td>Thêm 7 ca tại Quảng Nam liên quan đến hành khá...</td>\n",
       "      <td>2020-03-09 07:02:38</td>\n",
       "      <td>775.0</td>\n",
       "      <td>0.0</td>\n",
       "      <td>54.0</td>\n",
       "      <td>0</td>\n",
       "    </tr>\n",
       "  </tbody>\n",
       "</table>\n",
       "</div>"
      ],
      "text/plain": [
       "   id                         user_name  \\\n",
       "0   1  389c669730cb6c54314a46be785cea42   \n",
       "1   2  775baa6d037b6d359b229a656eaeaf08   \n",
       "2   3  b9f3394d2aff86d85974f5040c401f08   \n",
       "3   4  808e278b22ec6b96f2faf7447d10cd8e   \n",
       "4   5  f81bdd6d8be4c5f64bb664214e47aced   \n",
       "\n",
       "                                        post_message       timestamp_post  \\\n",
       "0  THĂNG CẤP BẬC HÀM ĐỐI VỚI 2 CÁN BỘ, CHIẾN SỸ H...  2020-04-03 20:23:59   \n",
       "1                                              <URL>  2020-05-08 11:59:26   \n",
       "2  TƯ VẤN MÙA THI: Cách nộp hồ sơ để trúng tuyển ...  2020-06-06 01:00:13   \n",
       "3  Cơ quan Cạnh tranh và Thị trường Anh quyết địn...  2020-06-13 04:46:53   \n",
       "4  Thêm 7 ca tại Quảng Nam liên quan đến hành khá...  2020-03-09 07:02:38   \n",
       "\n",
       "   num_like_post  num_comment_post  num_share_post  label  \n",
       "0        19477.0             378.0           173.0      0  \n",
       "1           11.0               5.0             3.0      0  \n",
       "2           48.0               5.0            19.0      0  \n",
       "3            3.0               0.0             0.0      0  \n",
       "4          775.0               0.0            54.0      0  "
      ]
     },
     "execution_count": 2,
     "metadata": {},
     "output_type": "execute_result"
    }
   ],
   "source": [
    "df = pd.read_csv('News_dataset.csv')\n",
    "df.head()"
   ]
  },
  {
   "cell_type": "code",
   "execution_count": 3,
   "metadata": {},
   "outputs": [
    {
     "name": "stdout",
     "output_type": "stream",
     "text": [
      "Số lượng tin trong dữ liệu: 4868 \n",
      "\n",
      "label\n",
      "0    4050\n",
      "1     818\n",
      "dtype: int64 \n",
      "\n"
     ]
    },
    {
     "data": {
      "image/png": "[encoded data removed]",
      "text/plain": [
       "<Figure size 300x400 with 1 Axes>"
      ]
     },
     "metadata": {},
     "output_type": "display_data"
    }
   ],
   "source": [
    "# Count of each label\n",
    "label_count = df.value_counts('label')\n",
    "\n",
    "sns.set_theme(style=\"whitegrid\")\n",
    "plt.figure(figsize=(3, 4))\n",
    "sns.barplot(x=['Thật', 'Giả'], y=label_count, palette=['b', 'r'])\n",
    "plt.xlabel('Nhãn')\n",
    "plt.ylabel('Số lượng')\n",
    "plt.title('Biểu đồ số lượng nhãn tin thật và tin giả', y=1.02) # y = space from graph\n",
    "print('Số lượng tin trong dữ liệu:', len(df['label']), '\\n')\n",
    "print(label_count, '\\n')"
   ]
  },
  {
   "cell_type": "code",
   "execution_count": 4,
   "metadata": {},
   "outputs": [
    {
     "name": "stderr",
     "output_type": "stream",
     "text": [
      "/home/ubuntu/miniconda3/envs/tsai_ecg/lib/python3.10/site-packages/tqdm/auto.py:21: TqdmWarning: IProgress not found. Please update jupyter and ipywidgets. See https://ipywidgets.readthedocs.io/en/stable/user_install.html\n",
      "  from .autonotebook import tqdm as notebook_tqdm\n"
     ]
    }
   ],
   "source": [
    "from transformers import AutoTokenizer\n",
    "\n",
    "tokenizer = AutoTokenizer.from_pretrained(\"vinai/bartpho-syllable\")\n",
    "\n",
    "ids_list = []\n",
    "for i, sequence in enumerate(df['post_message']):\n",
    "    tokens = tokenizer.tokenize(sequence)\n",
    "    ids = tokenizer.convert_tokens_to_ids(tokens)\n",
    "    ids_list.append(ids)\n",
    "df['encoding'] = ids_list"
   ]
  },
  {
   "cell_type": "code",
   "execution_count": 5,
   "metadata": {},
   "outputs": [
    {
     "data": {
      "text/html": [
       "<div>\n",
       "<style scoped>\n",
       "    .dataframe tbody tr th:only-of-type {\n",
       "        vertical-align: middle;\n",
       "    }\n",
       "\n",
       "    .dataframe tbody tr th {\n",
       "        vertical-align: top;\n",
       "    }\n",
       "\n",
       "    .dataframe thead th {\n",
       "        text-align: right;\n",
       "    }\n",
       "</style>\n",
       "<table border=\"1\" class=\"dataframe\">\n",
       "  <thead>\n",
       "    <tr style=\"text-align: right;\">\n",
       "      <th></th>\n",
       "      <th>id</th>\n",
       "      <th>user_name</th>\n",
       "      <th>post_message</th>\n",
       "      <th>timestamp_post</th>\n",
       "      <th>num_like_post</th>\n",
       "      <th>num_comment_post</th>\n",
       "      <th>num_share_post</th>\n",
       "      <th>label</th>\n",
       "      <th>encoding</th>\n",
       "    </tr>\n",
       "  </thead>\n",
       "  <tbody>\n",
       "    <tr>\n",
       "      <th>0</th>\n",
       "      <td>1</td>\n",
       "      <td>389c669730cb6c54314a46be785cea42</td>\n",
       "      <td>THĂNG CẤP BẬC HÀM ĐỐI VỚI 2 CÁN BỘ, CHIẾN SỸ H...</td>\n",
       "      <td>2020-04-03 20:23:59</td>\n",
       "      <td>19477.0</td>\n",
       "      <td>378.0</td>\n",
       "      <td>173.0</td>\n",
       "      <td>0</td>\n",
       "      <td>[2077, 6599, 2799, 129, 1245, 1683, 232, 5751,...</td>\n",
       "    </tr>\n",
       "    <tr>\n",
       "      <th>1</th>\n",
       "      <td>2</td>\n",
       "      <td>775baa6d037b6d359b229a656eaeaf08</td>\n",
       "      <td>&lt;URL&gt;</td>\n",
       "      <td>2020-05-08 11:59:26</td>\n",
       "      <td>11.0</td>\n",
       "      <td>5.0</td>\n",
       "      <td>3.0</td>\n",
       "      <td>0</td>\n",
       "      <td>[4787, 31771, 15690]</td>\n",
       "    </tr>\n",
       "    <tr>\n",
       "      <th>2</th>\n",
       "      <td>3</td>\n",
       "      <td>b9f3394d2aff86d85974f5040c401f08</td>\n",
       "      <td>TƯ VẤN MÙA THI: Cách nộp hồ sơ để trúng tuyển ...</td>\n",
       "      <td>2020-06-06 01:00:13</td>\n",
       "      <td>48.0</td>\n",
       "      <td>5.0</td>\n",
       "      <td>19.0</td>\n",
       "      <td>0</td>\n",
       "      <td>[4425, 291, 1245, 904, 315, 5440, 1352, 23, 94...</td>\n",
       "    </tr>\n",
       "    <tr>\n",
       "      <th>3</th>\n",
       "      <td>4</td>\n",
       "      <td>808e278b22ec6b96f2faf7447d10cd8e</td>\n",
       "      <td>Cơ quan Cạnh tranh và Thị trường Anh quyết địn...</td>\n",
       "      <td>2020-06-13 04:46:53</td>\n",
       "      <td>3.0</td>\n",
       "      <td>0.0</td>\n",
       "      <td>0.0</td>\n",
       "      <td>0</td>\n",
       "      <td>[1221, 65, 129, 1443, 479, 6, 554, 78, 242, 24...</td>\n",
       "    </tr>\n",
       "    <tr>\n",
       "      <th>4</th>\n",
       "      <td>5</td>\n",
       "      <td>f81bdd6d8be4c5f64bb664214e47aced</td>\n",
       "      <td>Thêm 7 ca tại Quảng Nam liên quan đến hành khá...</td>\n",
       "      <td>2020-03-09 07:02:38</td>\n",
       "      <td>775.0</td>\n",
       "      <td>0.0</td>\n",
       "      <td>54.0</td>\n",
       "      <td>0</td>\n",
       "      <td>[2824, 582, 506, 34, 877, 70, 262, 65, 30, 93,...</td>\n",
       "    </tr>\n",
       "  </tbody>\n",
       "</table>\n",
       "</div>"
      ],
      "text/plain": [
       "   id                         user_name  \\\n",
       "0   1  389c669730cb6c54314a46be785cea42   \n",
       "1   2  775baa6d037b6d359b229a656eaeaf08   \n",
       "2   3  b9f3394d2aff86d85974f5040c401f08   \n",
       "3   4  808e278b22ec6b96f2faf7447d10cd8e   \n",
       "4   5  f81bdd6d8be4c5f64bb664214e47aced   \n",
       "\n",
       "                                        post_message       timestamp_post  \\\n",
       "0  THĂNG CẤP BẬC HÀM ĐỐI VỚI 2 CÁN BỘ, CHIẾN SỸ H...  2020-04-03 20:23:59   \n",
       "1                                              <URL>  2020-05-08 11:59:26   \n",
       "2  TƯ VẤN MÙA THI: Cách nộp hồ sơ để trúng tuyển ...  2020-06-06 01:00:13   \n",
       "3  Cơ quan Cạnh tranh và Thị trường Anh quyết địn...  2020-06-13 04:46:53   \n",
       "4  Thêm 7 ca tại Quảng Nam liên quan đến hành khá...  2020-03-09 07:02:38   \n",
       "\n",
       "   num_like_post  num_comment_post  num_share_post  label  \\\n",
       "0        19477.0             378.0           173.0      0   \n",
       "1           11.0               5.0             3.0      0   \n",
       "2           48.0               5.0            19.0      0   \n",
       "3            3.0               0.0             0.0      0   \n",
       "4          775.0               0.0            54.0      0   \n",
       "\n",
       "                                            encoding  \n",
       "0  [2077, 6599, 2799, 129, 1245, 1683, 232, 5751,...  \n",
       "1                               [4787, 31771, 15690]  \n",
       "2  [4425, 291, 1245, 904, 315, 5440, 1352, 23, 94...  \n",
       "3  [1221, 65, 129, 1443, 479, 6, 554, 78, 242, 24...  \n",
       "4  [2824, 582, 506, 34, 877, 70, 262, 65, 30, 93,...  "
      ]
     },
     "execution_count": 5,
     "metadata": {},
     "output_type": "execute_result"
    }
   ],
   "source": [
    "df.head()"
   ]
  },
  {
   "cell_type": "code",
   "execution_count": 6,
   "metadata": {},
   "outputs": [],
   "source": [
    "standard_new = []\n",
    "fake_new = []\n",
    "\n",
    "for i, encoding in enumerate(df['encoding']):\n",
    "    if df.loc[i, 'label'] == 0:\n",
    "        standard_new.append(encoding)\n",
    "    elif df.loc[i, 'label'] == 1:\n",
    "        fake_new.append(encoding)\n"
   ]
  },
  {
   "cell_type": "code",
   "execution_count": 7,
   "metadata": {},
   "outputs": [
    {
     "name": "stdout",
     "output_type": "stream",
     "text": [
      "Size of X_train: 4381\n",
      "Size of X_test: 487\n",
      "Size of Y_train: 4381\n",
      "Size of Y_test: 487\n"
     ]
    }
   ],
   "source": [
    "from sklearn.model_selection import train_test_split\n",
    "X = standard_new + fake_new\n",
    "\n",
    "# Create the corresponding labels (0 for standard and 1 for fake)\n",
    "Y = [0] * len(standard_new) + [1] * len(fake_new)\n",
    "\n",
    "# Split the data into training and test sets (80% - 20%), ensuring balance in classes\n",
    "X_train, X_test, Y_train, Y_test = train_test_split(X, Y, test_size=0.1, random_state=42, stratify=Y)\n",
    "\n",
    "# Print the sizes of the training and test sets\n",
    "print(\"Size of X_train:\", len(X_train))\n",
    "print(\"Size of X_test:\", len(X_test))\n",
    "print(\"Size of Y_train:\", len(Y_train))\n",
    "print(\"Size of Y_test:\", len(Y_test))\n",
    "\n",
    "import torch\n",
    "import torch.nn as nn\n",
    "import torch.optim as optim\n",
    "import torch.nn.utils.rnn as rnn_utils\n",
    "X_train = [torch.tensor(x) for x in X_train]\n",
    "padded_X_train = rnn_utils.pad_sequence(X_train, batch_first=True)\n",
    "\n",
    "X_test = [torch.tensor(x) for x in X_test]\n",
    "padded_X_test = rnn_utils.pad_sequence(X_test, batch_first=True)"
   ]
  },
  {
   "cell_type": "code",
   "execution_count": 8,
   "metadata": {},
   "outputs": [],
   "source": [
    "X_train = padded_X_train\n",
    "X_test = padded_X_test\n",
    "Y_train = torch.tensor(Y_train, dtype=torch.long)  \n",
    "Y_test = torch.tensor(Y_test, dtype=torch.long)"
   ]
  },
  {
   "cell_type": "code",
   "execution_count": 9,
   "metadata": {},
   "outputs": [
    {
     "data": {
      "text/plain": [
       "torch.Size([4381, 7180])"
      ]
     },
     "execution_count": 9,
     "metadata": {},
     "output_type": "execute_result"
    }
   ],
   "source": [
    "X_train.shape"
   ]
  },
  {
   "cell_type": "code",
   "execution_count": 10,
   "metadata": {},
   "outputs": [],
   "source": [
    "from torch.nn import Module\n",
    "\n",
    "class LSTMClassifier(Module):\n",
    "    def __init__(self, input_dim, hidden_dim, layer_dim, output_dim):\n",
    "        super().__init__()\n",
    "        self.hidden_dim = hidden_dim\n",
    "        self.layer_dim = layer_dim\n",
    "        self.rnn = nn.LSTM(input_dim, hidden_dim, layer_dim, batch_first=True)\n",
    "        self.fc = nn.Linear(hidden_dim, output_dim)\n",
    "    \n",
    "    def forward(self, x):\n",
    "        h0, c0 = self.init_hidden(x.size(0), x.cuda())\n",
    "        out, (hn, cn) = self.rnn(x, (h0, c0))\n",
    "        out = self.fc(out[:, -1, :])\n",
    "        return out\n",
    "    \n",
    "    def init_hidden(self, batch_size, device):\n",
    "        h0 = torch.randn(self.layer_dim, batch_size, self.hidden_dim).cuda()\n",
    "        c0 = torch.randn(self.layer_dim, batch_size, self.hidden_dim).cuda()\n",
    "        h0 = to_float32(h0)\n",
    "        c0 = to_float32(c0)\n",
    "        return h0, c0"
   ]
  },
  {
   "cell_type": "code",
   "execution_count": 11,
   "metadata": {},
   "outputs": [],
   "source": [
    "def to_float32(tensor):\n",
    "    return tensor.to(torch.float32)\n",
    "\n",
    "X_train = to_float32(X_train)\n",
    "Y_train = to_float32(Y_train)\n",
    "X_test = to_float32(X_test)\n",
    "Y_test = to_float32(Y_test)"
   ]
  },
  {
   "cell_type": "code",
   "execution_count": 12,
   "metadata": {},
   "outputs": [],
   "source": [
    "from torch.utils.data import DataLoader, TensorDataset\n",
    "train_ds = TensorDataset(X_train, Y_train)\n",
    "valid_ds = TensorDataset(X_test, Y_test)\n",
    "train_dl=DataLoader(train_ds, batch_size=16)\n",
    "valid_dl=DataLoader(valid_ds, batch_size=16)"
   ]
  },
  {
   "cell_type": "code",
   "execution_count": 13,
   "metadata": {},
   "outputs": [],
   "source": [
    "from torch.optim.lr_scheduler import _LRScheduler\n",
    "class CyclicLR(_LRScheduler):\n",
    "    \n",
    "    def __init__(self, optimizer, schedule, last_epoch=-1):\n",
    "        assert callable(schedule)\n",
    "        self.schedule = schedule\n",
    "        super().__init__(optimizer, last_epoch)\n",
    "\n",
    "    def get_lr(self):\n",
    "        return [self.schedule(self.last_epoch, lr) for lr in self.base_lrs]\n",
    "\n",
    "\n",
    "def cosine(t_max, eta_min=0):\n",
    "    \n",
    "    def scheduler(epoch, base_lr):\n",
    "        t = epoch % t_max\n",
    "        return eta_min + (base_lr - eta_min)*(1 + np.cos(np.pi*t/t_max))/2\n",
    "    \n",
    "    return scheduler"
   ]
  },
  {
   "cell_type": "code",
   "execution_count": 15,
   "metadata": {},
   "outputs": [
    {
     "name": "stdout",
     "output_type": "stream",
     "text": [
      "Start model training\n"
     ]
    },
    {
     "name": "stderr",
     "output_type": "stream",
     "text": [
      "/home/ubuntu/miniconda3/envs/tsai_ecg/lib/python3.10/site-packages/torch/optim/lr_scheduler.py:139: UserWarning: Detected call of `lr_scheduler.step()` before `optimizer.step()`. In PyTorch 1.1.0 and later, you should call them in the opposite order: `optimizer.step()` before `lr_scheduler.step()`.  Failure to do this will result in PyTorch skipping the first value of the learning rate schedule. See more details at https://pytorch.org/docs/stable/optim.html#how-to-adjust-learning-rate\n",
      "  warnings.warn(\"Detected call of `lr_scheduler.step()` before `optimizer.step()`. \"\n"
     ]
    },
    {
     "ename": "OutOfMemoryError",
     "evalue": "CUDA out of memory. Tried to allocate 118.00 MiB (GPU 0; 23.70 GiB total capacity; 2.21 GiB already allocated; 74.81 MiB free; 2.33 GiB reserved in total by PyTorch) If reserved memory is >> allocated memory try setting max_split_size_mb to avoid fragmentation.  See documentation for Memory Management and PYTORCH_CUDA_ALLOC_CONF",
     "output_type": "error",
     "traceback": [
      "\u001b[0;31m---------------------------------------------------------------------------\u001b[0m",
      "\u001b[0;31mOutOfMemoryError\u001b[0m                          Traceback (most recent call last)",
      "Cell \u001b[0;32mIn[15], line 40\u001b[0m\n\u001b[1;32m     38\u001b[0m     out \u001b[39m=\u001b[39m model(x_batch)\n\u001b[1;32m     39\u001b[0m     loss \u001b[39m=\u001b[39m criterion(out, y_batch)\n\u001b[0;32m---> 40\u001b[0m     loss\u001b[39m.\u001b[39;49mbackward()\n\u001b[1;32m     41\u001b[0m     opt\u001b[39m.\u001b[39mstep()\n\u001b[1;32m     43\u001b[0m model\u001b[39m.\u001b[39meval()\n",
      "File \u001b[0;32m~/miniconda3/envs/tsai_ecg/lib/python3.10/site-packages/torch/_tensor.py:487\u001b[0m, in \u001b[0;36mTensor.backward\u001b[0;34m(self, gradient, retain_graph, create_graph, inputs)\u001b[0m\n\u001b[1;32m    477\u001b[0m \u001b[39mif\u001b[39;00m has_torch_function_unary(\u001b[39mself\u001b[39m):\n\u001b[1;32m    478\u001b[0m     \u001b[39mreturn\u001b[39;00m handle_torch_function(\n\u001b[1;32m    479\u001b[0m         Tensor\u001b[39m.\u001b[39mbackward,\n\u001b[1;32m    480\u001b[0m         (\u001b[39mself\u001b[39m,),\n\u001b[0;32m   (...)\u001b[0m\n\u001b[1;32m    485\u001b[0m         inputs\u001b[39m=\u001b[39minputs,\n\u001b[1;32m    486\u001b[0m     )\n\u001b[0;32m--> 487\u001b[0m torch\u001b[39m.\u001b[39;49mautograd\u001b[39m.\u001b[39;49mbackward(\n\u001b[1;32m    488\u001b[0m     \u001b[39mself\u001b[39;49m, gradient, retain_graph, create_graph, inputs\u001b[39m=\u001b[39;49minputs\n\u001b[1;32m    489\u001b[0m )\n",
      "File \u001b[0;32m~/miniconda3/envs/tsai_ecg/lib/python3.10/site-packages/torch/autograd/__init__.py:200\u001b[0m, in \u001b[0;36mbackward\u001b[0;34m(tensors, grad_tensors, retain_graph, create_graph, grad_variables, inputs)\u001b[0m\n\u001b[1;32m    195\u001b[0m     retain_graph \u001b[39m=\u001b[39m create_graph\n\u001b[1;32m    197\u001b[0m \u001b[39m# The reason we repeat same the comment below is that\u001b[39;00m\n\u001b[1;32m    198\u001b[0m \u001b[39m# some Python versions print out the first line of a multi-line function\u001b[39;00m\n\u001b[1;32m    199\u001b[0m \u001b[39m# calls in the traceback and some print out the last line\u001b[39;00m\n\u001b[0;32m--> 200\u001b[0m Variable\u001b[39m.\u001b[39;49m_execution_engine\u001b[39m.\u001b[39;49mrun_backward(  \u001b[39m# Calls into the C++ engine to run the backward pass\u001b[39;49;00m\n\u001b[1;32m    201\u001b[0m     tensors, grad_tensors_, retain_graph, create_graph, inputs,\n\u001b[1;32m    202\u001b[0m     allow_unreachable\u001b[39m=\u001b[39;49m\u001b[39mTrue\u001b[39;49;00m, accumulate_grad\u001b[39m=\u001b[39;49m\u001b[39mTrue\u001b[39;49;00m)\n",
      "\u001b[0;31mOutOfMemoryError\u001b[0m: CUDA out of memory. Tried to allocate 118.00 MiB (GPU 0; 23.70 GiB total capacity; 2.21 GiB already allocated; 74.81 MiB free; 2.33 GiB reserved in total by PyTorch) If reserved memory is >> allocated memory try setting max_split_size_mb to avoid fragmentation.  See documentation for Memory Management and PYTORCH_CUDA_ALLOC_CONF"
     ]
    }
   ],
   "source": [
    "input_dim = 1\n",
    "hidden_dim = 256\n",
    "layer_dim = 3\n",
    "output_dim = 1\n",
    "seq_dim = 128\n",
    "\n",
    "lr = 0.0005\n",
    "n_epochs = 1000\n",
    "iterations_per_epoch = len(train_dl)\n",
    "best_acc = 0\n",
    "patience, trials = 100, 0\n",
    "\n",
    "model = LSTMClassifier(input_dim, hidden_dim, layer_dim, output_dim)\n",
    "model = model.cuda()\n",
    "criterion = nn.CrossEntropyLoss()\n",
    "opt = torch.optim.RMSprop(model.parameters(), lr=lr)\n",
    "sched = CyclicLR(opt, cosine(t_max=iterations_per_epoch * 2, eta_min=lr/100))\n",
    "\n",
    "print('Start model training')\n",
    "\n",
    "for epoch in range(1, n_epochs + 1):\n",
    "    \n",
    "    for i, (x_batch, y_batch) in enumerate(train_dl):\n",
    "        model.train()\n",
    "        \n",
    "        x_batch = x_batch.reshape([x_batch.shape[0], x_batch.shape[1], 1])\n",
    "        y_batch = y_batch.reshape([y_batch.shape[0]])\n",
    "        \n",
    "        x_batch = to_float32(x_batch)\n",
    "        y_batch = to_float32(y_batch)\n",
    "        \n",
    "        x_batch = x_batch.cuda()\n",
    "        y_batch = y_batch.cuda()\n",
    "        \n",
    "        y_batch = y_batch.reshape(-1,1)\n",
    "        sched.step()\n",
    "        opt.zero_grad()\n",
    "        out = model(x_batch)\n",
    "        loss = criterion(out, y_batch)\n",
    "        loss.backward()\n",
    "        opt.step()\n",
    "    \n",
    "    model.eval()\n",
    "    correct, total = 0, 0\n",
    "    for x_val, y_val in valid_dl:\n",
    "        x_val = x_val.reshape([x_batch.shape[0], x_batch.shape[1], 1])\n",
    "        y_val = y_val.reshape([y_val.shape[0]])\n",
    "        \n",
    "        x_val = to_float32(x_val)\n",
    "        y_val = to_float32(y_val)\n",
    "        \n",
    "        x_val = x_val.cuda()\n",
    "        y_val = y_val.cuda()\n",
    "        \n",
    "        y_val = y_val.reshape(-1,1)\n",
    "        \n",
    "        out = model(x_val)\n",
    "        preds = F.log_softmax(out, dim=1).argmax(dim=1)\n",
    "        total += y_val.size(0)\n",
    "        correct += (preds == y_val).sum().item()\n",
    "    \n",
    "    acc = correct / total\n",
    "\n",
    "    if epoch % 5 == 0:\n",
    "        print(f'Epoch: {epoch}. Loss: {loss.item():.4f}. Acc.: {acc:2.2%}')\n",
    "\n",
    "    if acc > best_acc:\n",
    "        trials = 0\n",
    "        best_acc = acc\n",
    "        torch.save(model.state_dict(), 'best.pth')\n",
    "        print(f'Epoch {epoch} best model saved with accuracy: {best_acc:2.2%}')\n",
    "    else:\n",
    "        trials += 1\n",
    "        if trials >= patience:\n",
    "            print(f'Early stopping on epoch {epoch}')\n",
    "            break"
   ]
  }
 ],
 "metadata": {
  "kernelspec": {
   "display_name": "tsai_ecg",
   "language": "python",
   "name": "tsai_ecg"
  },
  "language_info": {
   "codemirror_mode": {
    "name": "ipython",
    "version": 3
   },
   "file_extension": ".py",
   "mimetype": "text/x-python",
   "name": "python",
   "nbconvert_exporter": "python",
   "pygments_lexer": "ipython3",
   "version": "3.10.11"
  },
  "orig_nbformat": 4
 },
 "nbformat": 4,
 "nbformat_minor": 2
}
